{
 "cells": [
  {
   "cell_type": "code",
   "execution_count": 8,
   "id": "eab37eeb-c249-419e-8406-b5b8316497e3",
   "metadata": {},
   "outputs": [],
   "source": [
    "import os"
   ]
  },
  {
   "cell_type": "code",
   "execution_count": 7,
   "id": "3a92c230-0ab8-48b8-b3ad-7af18719bd9d",
   "metadata": {},
   "outputs": [],
   "source": [
    "import polars as pl"
   ]
  },
  {
   "cell_type": "code",
   "execution_count": 6,
   "id": "a0854992-3a59-4903-85d2-fc248fb20acf",
   "metadata": {},
   "outputs": [],
   "source": [
    "import adbc_driver_postgresql.dbapi"
   ]
  },
  {
   "cell_type": "code",
   "execution_count": 5,
   "id": "e49e361b-ff97-4358-a2e0-2938276710a1",
   "metadata": {},
   "outputs": [],
   "source": [
    "from dotenv import load_dotenv"
   ]
  },
  {
   "cell_type": "code",
   "execution_count": 9,
   "id": "e22fd91e-77be-4dfc-b3c8-262aefda4a5c",
   "metadata": {},
   "outputs": [
    {
     "data": {
      "text/plain": [
       "True"
      ]
     },
     "execution_count": 9,
     "metadata": {},
     "output_type": "execute_result"
    }
   ],
   "source": [
    "load_dotenv()"
   ]
  },
  {
   "cell_type": "code",
   "execution_count": 10,
   "id": "a8a62d78-31ce-485b-a5f1-3ff6d97e37c7",
   "metadata": {},
   "outputs": [],
   "source": [
    "# Get environment variables with fallback values\n",
    "POSTGRES_USER = os.getenv(\"POSTGRES_USER\")\n",
    "POSTGRES_PASSWORD = os.getenv(\"POSTGRES_PASSWORD\")\n",
    "POSTGRES_DB = os.getenv(\"POSTGRES_DB\")\n",
    "POSTGRES_HOST = os.getenv(\"POSTGRES_HOST\")\n",
    "POSTGRES_PORT = os.getenv(\"POSTGRES_PORT\")\n",
    "\n",
    "# Build connection string\n",
    "uri = f\"postgresql://{POSTGRES_USER}:{POSTGRES_PASSWORD}@{POSTGRES_HOST}:{POSTGRES_PORT}/{POSTGRES_DB}\""
   ]
  },
  {
   "cell_type": "code",
   "execution_count": 12,
   "id": "3e45ccc9-e7f4-4529-9099-14813d5f7744",
   "metadata": {},
   "outputs": [],
   "source": [
    "conn = adbc_driver_postgresql.dbapi.connect(uri)"
   ]
  },
  {
   "cell_type": "code",
   "execution_count": 11,
   "id": "0c346682-3837-441e-9032-6882767c03a8",
   "metadata": {},
   "outputs": [
    {
     "name": "stdout",
     "output_type": "stream",
     "text": [
      "postgres\n"
     ]
    }
   ],
   "source": [
    "print(POSTGRES_USER)"
   ]
  },
  {
   "cell_type": "code",
   "execution_count": null,
   "id": "5ce2e602-4934-4bc0-8086-265fe80f1a8a",
   "metadata": {},
   "outputs": [],
   "source": []
  },
  {
   "cell_type": "code",
   "execution_count": null,
   "id": "d9546f80-d0ee-444c-8af3-7a978576ac42",
   "metadata": {},
   "outputs": [],
   "source": []
  }
 ],
 "metadata": {
  "kernelspec": {
   "display_name": "Python 3 (ipykernel)",
   "language": "python",
   "name": "python3"
  },
  "language_info": {
   "codemirror_mode": {
    "name": "ipython",
    "version": 3
   },
   "file_extension": ".py",
   "mimetype": "text/x-python",
   "name": "python",
   "nbconvert_exporter": "python",
   "pygments_lexer": "ipython3",
   "version": "3.13.1"
  }
 },
 "nbformat": 4,
 "nbformat_minor": 5
}
